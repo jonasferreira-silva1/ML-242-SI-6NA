{
  "cells": [
    {
      "cell_type": "markdown",
      "metadata": {
        "id": "C0mVlV6-Y_z5"
      },
      "source": [
        "# Atividade:\n",
        "\n",
        "## Para a seguinte lista de números:\n",
        "\n",
        "> valores = [4, 6, 3, 4, 5, 8, 4, 2]\n",
        "\n",
        "Crie um notebook que apresenta as seguintes informações sobre a lista:\n",
        "\n",
        "- Valor máximo\n",
        "\n",
        "- Valor mínimo\n",
        "\n",
        "- Média aritmética dos valores\n",
        "\n",
        "- Mediana dos valores\n",
        "\n",
        "- Desvio padrão dos valores.\n",
        "\n",
        "O arquivo deve conter o nome tarefa_1.ipynb. Envie o arquivo na respectiva pasta em NOTEBOOKS."
      ]
    },
    {
      "cell_type": "markdown",
      "metadata": {
        "id": "Gdlr-bHSapHJ"
      },
      "source": [
        "# Importando a Bibliotecas necessárias:"
      ]
    },
    {
      "cell_type": "code",
      "execution_count": 1,
      "metadata": {
        "id": "qknZcExGR8xx"
      },
      "outputs": [
        {
          "ename": "ModuleNotFoundError",
          "evalue": "No module named 'pandas'",
          "output_type": "error",
          "traceback": [
            "\u001b[1;31m---------------------------------------------------------------------------\u001b[0m",
            "\u001b[1;31mModuleNotFoundError\u001b[0m                       Traceback (most recent call last)",
            "Cell \u001b[1;32mIn[1], line 1\u001b[0m\n\u001b[1;32m----> 1\u001b[0m \u001b[38;5;28;01mimport\u001b[39;00m \u001b[38;5;21;01mpandas\u001b[39;00m \u001b[38;5;28;01mas\u001b[39;00m \u001b[38;5;21;01mpd\u001b[39;00m\n",
            "\u001b[1;31mModuleNotFoundError\u001b[0m: No module named 'pandas'"
          ]
        }
      ],
      "source": [
        "import pandas as pd"
      ]
    },
    {
      "cell_type": "markdown",
      "metadata": {
        "id": "OEvKrQ4Fbd85"
      },
      "source": [
        "# Array de Valores"
      ]
    },
    {
      "cell_type": "code",
      "execution_count": 27,
      "metadata": {
        "id": "QXQyDVMbbhjo"
      },
      "outputs": [],
      "source": [
        "valores = [4, 6, 3, 4, 5, 8, 4, 2]"
      ]
    },
    {
      "cell_type": "markdown",
      "metadata": {
        "id": "QeVKtIbKbidw"
      },
      "source": [
        "# Criando um DataFrame com os valores"
      ]
    },
    {
      "cell_type": "code",
      "execution_count": 28,
      "metadata": {
        "id": "m-YsR0VEbu9H"
      },
      "outputs": [],
      "source": [
        "df = pd.DataFrame(valores, columns=['Valores'])"
      ]
    },
    {
      "cell_type": "markdown",
      "metadata": {
        "id": "2ilvQC8zb1mY"
      },
      "source": [
        "# Calculando o valor máximo"
      ]
    },
    {
      "cell_type": "code",
      "execution_count": 29,
      "metadata": {
        "colab": {
          "base_uri": "https://localhost:8080/"
        },
        "id": "2CLJu7MSb4nI",
        "outputId": "f5e32160-542d-44e6-87c0-6d2f487a1a27"
      },
      "outputs": [
        {
          "name": "stdout",
          "output_type": "stream",
          "text": [
            "Valor máximo: 8\n"
          ]
        }
      ],
      "source": [
        "valor_maximo = df['Valores'].max()\n",
        "print(f'Valor máximo: {valor_maximo}')"
      ]
    },
    {
      "cell_type": "markdown",
      "metadata": {
        "id": "Rei6Jj6wb66g"
      },
      "source": [
        "# Calculando o valor mínimo"
      ]
    },
    {
      "cell_type": "code",
      "execution_count": 30,
      "metadata": {
        "colab": {
          "base_uri": "https://localhost:8080/"
        },
        "id": "vjRMsf84b_dH",
        "outputId": "29d9633c-b625-4782-a36c-cbb35aad7326"
      },
      "outputs": [
        {
          "name": "stdout",
          "output_type": "stream",
          "text": [
            "Valor mínimo: 2\n"
          ]
        }
      ],
      "source": [
        "valor_minimo = df['Valores'].min()\n",
        "print(f'Valor mínimo: {valor_minimo}')"
      ]
    },
    {
      "cell_type": "markdown",
      "metadata": {
        "id": "NED7utZJcJ0l"
      },
      "source": [
        "# Calculando a média aritmética"
      ]
    },
    {
      "cell_type": "code",
      "execution_count": 31,
      "metadata": {
        "colab": {
          "base_uri": "https://localhost:8080/"
        },
        "id": "EUGgdosEcM62",
        "outputId": "75db81d2-a07d-41d8-b2e2-47185bf64e13"
      },
      "outputs": [
        {
          "name": "stdout",
          "output_type": "stream",
          "text": [
            "Média aritmética: 4.5\n"
          ]
        }
      ],
      "source": [
        "media_aritmetica = df['Valores'].mean()\n",
        "print(f'Média aritmética: {media_aritmetica}')"
      ]
    },
    {
      "cell_type": "markdown",
      "metadata": {
        "id": "prQpNSlYcPn1"
      },
      "source": [
        "# Calculando a mediana"
      ]
    },
    {
      "cell_type": "code",
      "execution_count": 32,
      "metadata": {
        "colab": {
          "base_uri": "https://localhost:8080/"
        },
        "id": "hjRcrtDvcS1F",
        "outputId": "5ce390ca-7a03-4d08-bb08-27eb0ceda057"
      },
      "outputs": [
        {
          "name": "stdout",
          "output_type": "stream",
          "text": [
            "Mediana: 4.0\n"
          ]
        }
      ],
      "source": [
        "mediana = df['Valores'].median()\n",
        "print(f'Mediana: {mediana}')"
      ]
    },
    {
      "cell_type": "markdown",
      "metadata": {
        "id": "UbwfVUV9cVQl"
      },
      "source": [
        "# Calculando o desvio padrão"
      ]
    },
    {
      "cell_type": "code",
      "execution_count": 33,
      "metadata": {
        "colab": {
          "base_uri": "https://localhost:8080/"
        },
        "id": "geqcRmeRcYFo",
        "outputId": "a9ec2da2-05ce-490c-d4fd-2d6a41c47c18"
      },
      "outputs": [
        {
          "name": "stdout",
          "output_type": "stream",
          "text": [
            "Desvio padrão: 1.8516401995451028\n"
          ]
        }
      ],
      "source": [
        "desvio_padrao = df['Valores'].std()\n",
        "print(f'Desvio padrão: {desvio_padrao}')"
      ]
    },
    {
      "cell_type": "markdown",
      "metadata": {
        "id": "WMMUBFKmdhWC"
      },
      "source": [
        "# Resultado Geral"
      ]
    },
    {
      "cell_type": "code",
      "execution_count": 34,
      "metadata": {
        "colab": {
          "base_uri": "https://localhost:8080/"
        },
        "id": "BnCkzoW6doiT",
        "outputId": "fd73cc89-08ca-4edf-e162-04e5d1718dfb"
      },
      "outputs": [
        {
          "name": "stdout",
          "output_type": "stream",
          "text": [
            "   Valor Máximo  Valor Mínimo  Média Aritmética  Mediana  Desvio Padrão\n",
            "0             8             2               4.5      4.0        1.85164\n"
          ]
        }
      ],
      "source": [
        "# Calculando os resultados\n",
        "resultados = {\n",
        "    'Valor Máximo': [df['Valores'].max()],\n",
        "    'Valor Mínimo': [df['Valores'].min()],\n",
        "    'Média Aritmética': [df['Valores'].mean()],\n",
        "    'Mediana': [df['Valores'].median()],\n",
        "    'Desvio Padrão': [df['Valores'].std()]\n",
        "}\n",
        "\n",
        "# Criando um DataFrame com os resultados\n",
        "df_resultados = pd.DataFrame(resultados)\n",
        "\n",
        "# Exibindo o DataFrame com os resultados\n",
        "print(df_resultados)"
      ]
    }
  ],
  "metadata": {
    "colab": {
      "provenance": []
    },
    "kernelspec": {
      "display_name": "Python 3",
      "name": "python3"
    },
    "language_info": {
      "codemirror_mode": {
        "name": "ipython",
        "version": 3
      },
      "file_extension": ".py",
      "mimetype": "text/x-python",
      "name": "python",
      "nbconvert_exporter": "python",
      "pygments_lexer": "ipython3",
      "version": "3.11.3"
    }
  },
  "nbformat": 4,
  "nbformat_minor": 0
}
