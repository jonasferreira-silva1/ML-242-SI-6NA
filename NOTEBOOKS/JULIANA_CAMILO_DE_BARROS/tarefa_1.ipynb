{
 "cells": [
  {
   "cell_type": "code",
   "execution_count": null,
   "id": "20927cb4",
   "metadata": {},
   "outputs": [],
   "source": [
    "# Análise da lista de valores\n"
   ]
  },
  {
   "cell_type": "code",
   "execution_count": null,
   "id": "697b087c",
   "metadata": {},
   "outputs": [],
   "source": [
    "import numpy as np\n",
    "import pandas as pd\n",
    "\n",
    "# Criar a lista de valores\n",
    "valores = [4, 6, 3, 4, 5, 8, 4, 2]\n",
    "\n",
    "# Calcular as estatísticas\n",
    "valor_maximo = np.max(valores)\n",
    "valor_minimo = np.min(valores)\n",
    "media = np.mean(valores)\n",
    "mediana = np.median(valores)\n",
    "desvio_padrao = np.std(valores)\n",
    "\n",
    "# Criar um dicionário para armazenar os resultados\n",
    "resultados = {\n",
    "    'Valor máximo': valor_maximo,\n",
    "    'Valor mínimo': valor_minimo,\n",
    "    'Média aritmética': media,\n",
    "    'Mediana': mediana,\n",
    "    'Desvio padrão': desvio_padrao\n",
    "}\n",
    "\n",
    "# Criar um DataFrame para melhor visualização\n",
    "df_resultados = pd.DataFrame(resultados.items(), columns=['Estatística', 'Valor'])\n",
    "\n",
    "df_resultados\n"
   ]
  },
  {
   "cell_type": "code",
   "execution_count": null,
   "id": "d5017de1",
   "metadata": {},
   "outputs": [],
   "source": [
    "df_resultados.to_csv('resultados.csv', index=False)"
   ]
  }
 ],
 "metadata": {
  "language_info": {
   "name": "python"
  }
 },
 "nbformat": 4,
 "nbformat_minor": 5
}
