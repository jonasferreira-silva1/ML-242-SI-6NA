{
 "cells": [
  {
   "cell_type": "markdown",
   "metadata": {},
   "source": [
    "# Tarefa 1\n",
    "\n",
    "Para a seguinte lista de números:\n",
    "\n",
    "``valores = [4, 6, 3, 4, 5, 8, 4, 2]``\n",
    "\n",
    "Crie um notebook que apresente as seguintes informações sobre a lista:\n",
    "\n",
    "1. Valor máximo\n",
    "2. Valor mínimo\n",
    "3. Média aritmética dos valores\n",
    "4. Mediana dos valores\n",
    "5. Desvio padrão dos valores."
   ]
  },
  {
   "cell_type": "code",
   "execution_count": 1,
   "metadata": {},
   "outputs": [],
   "source": [
    "valores = [4, 6, 3, 4, 5, 8, 4, 2]"
   ]
  },
  {
   "cell_type": "markdown",
   "metadata": {},
   "source": [
    "#### 1: Valor máximo"
   ]
  },
  {
   "cell_type": "code",
   "execution_count": 6,
   "metadata": {},
   "outputs": [
    {
     "name": "stdout",
     "output_type": "stream",
     "text": [
      "O valor máximo da lista é: 8\n"
     ]
    }
   ],
   "source": [
    "import numpy as np\n",
    "print(f'O valor máximo da lista é: {np.max(valores)}')"
   ]
  },
  {
   "cell_type": "markdown",
   "metadata": {},
   "source": [
    "#### 2: Valor mínimo\n"
   ]
  },
  {
   "cell_type": "code",
   "execution_count": 7,
   "metadata": {},
   "outputs": [
    {
     "name": "stdout",
     "output_type": "stream",
     "text": [
      "O valor mínimo da lista é: 2\n"
     ]
    }
   ],
   "source": [
    "print(f'O valor mínimo da lista é: {np.min(valores)}')"
   ]
  },
  {
   "cell_type": "markdown",
   "metadata": {},
   "source": [
    "#### 3: Média aritimética dos valores"
   ]
  },
  {
   "cell_type": "code",
   "execution_count": 8,
   "metadata": {},
   "outputs": [
    {
     "name": "stdout",
     "output_type": "stream",
     "text": [
      "A media dos valores da lista é: 4.5\n"
     ]
    }
   ],
   "source": [
    "print(f'A media dos valores da lista é: {np.mean(valores)}')"
   ]
  },
  {
   "cell_type": "markdown",
   "metadata": {},
   "source": [
    "#### 4: Mediana dos valores"
   ]
  },
  {
   "cell_type": "code",
   "execution_count": 9,
   "metadata": {},
   "outputs": [
    {
     "name": "stdout",
     "output_type": "stream",
     "text": [
      "A mediana da lista é: 4.0\n"
     ]
    }
   ],
   "source": [
    "print(f'A mediana da lista é: {np.median(valores)}')"
   ]
  },
  {
   "cell_type": "markdown",
   "metadata": {},
   "source": [
    "#### 5: Desvio padrão dos valores"
   ]
  },
  {
   "cell_type": "code",
   "execution_count": 10,
   "metadata": {},
   "outputs": [
    {
     "name": "stdout",
     "output_type": "stream",
     "text": [
      "O desvio padrão da lista é: 1.7320508075688772\n"
     ]
    }
   ],
   "source": [
    "print(f'O desvio padrão da lista é: {np.std(valores)}')"
   ]
  }
 ],
 "metadata": {
  "kernelspec": {
   "display_name": "Python 3",
   "language": "python",
   "name": "python3"
  },
  "language_info": {
   "codemirror_mode": {
    "name": "ipython",
    "version": 3
   },
   "file_extension": ".py",
   "mimetype": "text/x-python",
   "name": "python",
   "nbconvert_exporter": "python",
   "pygments_lexer": "ipython3",
   "version": "3.11.4"
  }
 },
 "nbformat": 4,
 "nbformat_minor": 2
}
