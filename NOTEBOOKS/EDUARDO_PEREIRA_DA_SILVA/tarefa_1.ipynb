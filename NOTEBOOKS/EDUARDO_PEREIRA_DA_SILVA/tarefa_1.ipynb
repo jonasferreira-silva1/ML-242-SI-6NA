{
 "cells": [
  {
   "cell_type": "markdown",
   "metadata": {},
   "source": [
    "Crie um notebook que apresente as seguintes informações sobre a lista:\n",
    "\n",
    "Valor máximo\n",
    "Valor mínimo\n",
    "Média aritmética dos valores\n",
    "Mediana dos valores\n",
    "Desvio padrão dos valores.\n",
    "\n",
    "O arquivo deve conter o nome tarefa_1.ipynb. Envie o arquivo na sua respectiva pasta em NOTEBOOKS."
   ]
  },
  {
   "cell_type": "code",
   "execution_count": 7,
   "metadata": {},
   "outputs": [
    {
     "name": "stdout",
     "output_type": "stream",
     "text": [
      "Valor Máximo: 8\n",
      "Valor Mínimo: 2\n",
      "Média aritmética: 4.5\n",
      "Mediana: 4.0\n",
      "Desvio Padrão 1.7320508075688772\n"
     ]
    }
   ],
   "source": [
    "import numpy as np\n",
    "\n",
    "# Lista de valores\n",
    "valores = [4, 6, 3, 4, 5, 8, 4, 2]\n",
    "\n",
    "# Cálculo\n",
    "print(\"Valor Máximo:\", np.max(valores));\n",
    "print(\"Valor Mínimo:\", np.min(valores));\n",
    "print(\"Média aritmética:\", np.mean(valores));\n",
    "print(\"Mediana:\", np.median(valores));\n",
    "print(\"Desvio Padrão\", np.std(valores));\n"
   ]
  }
 ],
 "metadata": {
  "kernelspec": {
   "display_name": "base",
   "language": "python",
   "name": "python3"
  },
  "language_info": {
   "codemirror_mode": {
    "name": "ipython",
    "version": 3
   },
   "file_extension": ".py",
   "mimetype": "text/x-python",
   "name": "python",
   "nbconvert_exporter": "python",
   "pygments_lexer": "ipython3",
   "version": "3.12.1"
  }
 },
 "nbformat": 4,
 "nbformat_minor": 2
}
