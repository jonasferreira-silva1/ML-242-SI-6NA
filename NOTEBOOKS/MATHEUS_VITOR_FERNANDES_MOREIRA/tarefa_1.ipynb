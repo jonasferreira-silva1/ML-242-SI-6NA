{
  "cells": [
    {
      "cell_type": "code",
      "execution_count": 1,
      "metadata": {
        "colab": {
          "base_uri": "https://localhost:8080/"
        },
        "id": "VZyN83asq2Nr",
        "outputId": "0da9c39b-1172-453c-bfc8-437ce07b2f15"
      },
      "outputs": [
        {
          "name": "stdout",
          "output_type": "stream",
          "text": [
            "O valor máximo da lista é: 8\n",
            "O valor mínimo da lista é: 2\n",
            "A média dos valores da lista é: 4.5\n",
            "A mediana da lista é: 4.0\n",
            "O desvio padrão da lista é: 1.8516401995451028\n"
          ]
        }
      ],
      "source": [
        "import statistics\n",
        "\n",
        "valores = [4, 6, 3, 4, 5, 8, 4, 2]\n",
        "\n",
        "# 1. Valor máximo\n",
        "max_valor = max(valores)\n",
        "print(f'O valor máximo da lista é: {max_valor}')\n",
        "\n",
        "# 2. Valor mínimo\n",
        "min_valor = min(valores)\n",
        "print(f'O valor mínimo da lista é: {min_valor}')\n",
        "\n",
        "# 3. Média aritmética dos valores\n",
        "media_valor = statistics.mean(valores)\n",
        "print(f'A média dos valores da lista é: {media_valor}')\n",
        "\n",
        "# 4. Mediana dos valores\n",
        "mediana_valor = statistics.median(valores)\n",
        "print(f'A mediana da lista é: {mediana_valor}')\n",
        "\n",
        "# 5. Desvio padrão dos valores\n",
        "desvio_padrao_valor = statistics.stdev(valores)\n",
        "print(f'O desvio padrão da lista é: {desvio_padrao_valor}')\n"
      ]
    }
  ],
  "metadata": {
    "colab": {
      "provenance": []
    },
    "kernelspec": {
      "display_name": "Python 3",
      "name": "python3"
    },
    "language_info": {
      "name": "python"
    }
  },
  "nbformat": 4,
  "nbformat_minor": 0
}
