{
 "cells": [
  {
   "cell_type": "code",
   "execution_count": null,
   "metadata": {},
   "outputs": [],
   "source": [
    "import numpy as np\n",
    "\n",
    "valores = [4, 6, 3, 4, 5, 8, 4, 2]\n",
    "\n",
    "valores_np = np.array(valores)\n",
    "\n",
    "valor_maximo = np.max(valores_np)\n",
    "valor_minimo = np.min(valores_np)\n",
    "media = np.mean(valores_np)\n",
    "mediana = np.median(valores_np)\n",
    "desvio_padrao = np.std(valores_np)\n",
    "\n",
    "print(\"Valor máximo:\", valor_maximo)\n",
    "print(\"Valor mínimo:\", valor_minimo)\n",
    "print(\"Média aritmética:\", media)\n",
    "print(\"Mediana:\", mediana)\n",
    "print(\"Desvio padrão:\", desvio_padrao)"
   ]
  }
 ],
 "metadata": {
  "kernelspec": {
   "display_name": "Python 3",
   "language": "python",
   "name": "python3"
  },
  "language_info": {
   "name": "python",
   "version": "3.12.2"
  }
 },
 "nbformat": 4,
 "nbformat_minor": 2
}
