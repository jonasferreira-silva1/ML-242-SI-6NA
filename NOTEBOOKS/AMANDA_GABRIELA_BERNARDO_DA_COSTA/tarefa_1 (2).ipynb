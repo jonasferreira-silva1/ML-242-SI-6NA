{
  "nbformat": 4,
  "nbformat_minor": 0,
  "metadata": {
    "colab": {
      "provenance": []
    },
    "kernelspec": {
      "name": "python3",
      "display_name": "Python 3"
    },
    "language_info": {
      "name": "python"
    }
  },
  "cells": [
    {
      "cell_type": "markdown",
      "source": [
        "**Tarefa 1 - Machine Learning** - Amanda Gabriela Bernardo da Costa (01566793)"
      ],
      "metadata": {
        "id": "at8j9uo7XLfC"
      }
    },
    {
      "cell_type": "code",
      "execution_count": 1,
      "metadata": {
        "id": "JRlOWbmpW10e",
        "outputId": "ca44b4d6-0720-490d-e5ef-a652f091654d",
        "colab": {
          "base_uri": "https://localhost:8080/"
        }
      },
      "outputs": [
        {
          "output_type": "stream",
          "name": "stdout",
          "text": [
            "8\n"
          ]
        }
      ],
      "source": [
        "\n",
        "valores = [4, 6, 3, 4, 5, 8, 4, 2]\n",
        "valor_maximo = max(valores)\n",
        "print(valor_maximo)\n"
      ]
    },
    {
      "cell_type": "code",
      "source": [
        "valores = [4, 6, 3, 4, 5, 8, 4, 2]\n",
        "valor_minimo = min(valores)\n",
        "print(valor_minimo)\n"
      ],
      "metadata": {
        "id": "jIOp8bekXicC",
        "outputId": "d8ea6f23-c6af-453f-d750-fde73a3acad9",
        "colab": {
          "base_uri": "https://localhost:8080/"
        }
      },
      "execution_count": 2,
      "outputs": [
        {
          "output_type": "stream",
          "name": "stdout",
          "text": [
            "2\n"
          ]
        }
      ]
    },
    {
      "cell_type": "code",
      "source": [
        "valores = [4, 6, 3, 4, 5, 8, 4, 2]\n",
        "media = sum(valores) / len(valores)\n",
        "print(media)\n"
      ],
      "metadata": {
        "id": "0Kohz4F6YRwi",
        "outputId": "0dc0627e-1d3a-4d1e-8167-696b97312523",
        "colab": {
          "base_uri": "https://localhost:8080/"
        }
      },
      "execution_count": 3,
      "outputs": [
        {
          "output_type": "stream",
          "name": "stdout",
          "text": [
            "4.5\n"
          ]
        }
      ]
    },
    {
      "cell_type": "code",
      "source": [
        "valores = [4, 6, 3, 4, 5, 8, 4, 2]\n",
        "valores.sort()\n",
        "n = len(valores)\n",
        "if n % 2 == 0:\n",
        "  mediana = (valores[n//2 - 1] + valores[n//2]) / 2\n",
        "else:\n",
        "  mediana = valores[n//2]\n",
        "print(mediana)\n"
      ],
      "metadata": {
        "id": "IiM6JveXZIHe",
        "outputId": "d435fa90-f309-4dc9-bee2-abc8ffc9a534",
        "colab": {
          "base_uri": "https://localhost:8080/"
        }
      },
      "execution_count": 4,
      "outputs": [
        {
          "output_type": "stream",
          "name": "stdout",
          "text": [
            "4.0\n"
          ]
        }
      ]
    },
    {
      "cell_type": "code",
      "source": [
        "\n",
        "import math\n",
        "\n",
        "valores = [4, 6, 3, 4, 5, 8, 4, 2]\n",
        "n = len(valores)\n",
        "\n",
        "\n",
        "media = sum(valores) / n\n",
        "\n",
        "soma_quadrados_diferencas = 0\n",
        "for valor in valores:\n",
        "  soma_quadrados_diferencas += (valor - media) ** 2\n",
        "variancia = soma_quadrados_diferencas / n\n",
        "\n",
        "\n",
        "desvio_padrao = math.sqrt(variancia)\n",
        "\n",
        "print(desvio_padrao)\n"
      ],
      "metadata": {
        "id": "IEX8M0wTZPhg",
        "outputId": "345bcd7d-da0c-44b5-9f0e-191fa3d75818",
        "colab": {
          "base_uri": "https://localhost:8080/"
        }
      },
      "execution_count": 5,
      "outputs": [
        {
          "output_type": "stream",
          "name": "stdout",
          "text": [
            "1.7320508075688772\n"
          ]
        }
      ]
    }
  ]
}