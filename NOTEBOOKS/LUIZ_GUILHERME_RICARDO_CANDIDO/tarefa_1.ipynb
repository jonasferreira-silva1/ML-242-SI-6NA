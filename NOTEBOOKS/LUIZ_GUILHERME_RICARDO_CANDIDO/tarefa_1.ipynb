{
  "nbformat": 4,
  "nbformat_minor": 0,
  "metadata": {
    "colab": {
      "provenance": []
    },
    "kernelspec": {
      "name": "python3",
      "display_name": "Python 3"
    },
    "language_info": {
      "name": "python"
    }
  },
  "cells": [
    {
      "cell_type": "markdown",
      "source": [
        "Para a seguinte lista de números:\n",
        "\n",
        "**valores** = [4, 6, 3, 4, 5, 8, 4, 2]\n",
        "\n",
        "Crie um notebook que apresente as seguintes informações sobre a lista:\n",
        "\n",
        "- Valor máximo\n",
        "- Valor mínimo\n",
        "- Média aritmética dos valores\n",
        "- Mediana dos valores\n",
        "- Desvio padrão dos valores.\n",
        "\n",
        "\n"
      ],
      "metadata": {
        "id": "k-k7OkICd7si"
      }
    },
    {
      "cell_type": "markdown",
      "source": [
        "\n",
        "# Importando as bibliotecas"
      ],
      "metadata": {
        "id": "w99xC093cuMz"
      }
    },
    {
      "cell_type": "code",
      "source": [
        "import pandas as pd"
      ],
      "metadata": {
        "id": "eTtKMwwlczj7"
      },
      "execution_count": 11,
      "outputs": []
    },
    {
      "cell_type": "markdown",
      "source": [
        "# Lista de números"
      ],
      "metadata": {
        "id": "m5OIf7O5cIqr"
      }
    },
    {
      "cell_type": "code",
      "source": [
        "valores = [4, 6, 3, 4, 5, 8, 4, 2]"
      ],
      "metadata": {
        "id": "Fn34Vgmycbt7"
      },
      "execution_count": 12,
      "outputs": []
    },
    {
      "cell_type": "markdown",
      "source": [
        "# Criando um DataFrame com a variável valores\n",
        "\n"
      ],
      "metadata": {
        "id": "r4fueWHZcebT"
      }
    },
    {
      "cell_type": "code",
      "source": [
        "df = pd.DataFrame(valores, columns=['Valores'])"
      ],
      "metadata": {
        "id": "uFg-oVMFdJbj"
      },
      "execution_count": 13,
      "outputs": []
    },
    {
      "cell_type": "markdown",
      "source": [
        "# Calculando o valor máximo\n"
      ],
      "metadata": {
        "id": "3SX2ssuhdM4K"
      }
    },
    {
      "cell_type": "code",
      "source": [
        "valor_maximo = df['Valores'].max()\n",
        "print(f'Valor máximo: {valor_maximo}')"
      ],
      "metadata": {
        "colab": {
          "base_uri": "https://localhost:8080/"
        },
        "id": "0BlzIP9ZdUg7",
        "outputId": "b577013c-ac1e-4a98-f158-dd788018c67b"
      },
      "execution_count": 14,
      "outputs": [
        {
          "output_type": "stream",
          "name": "stdout",
          "text": [
            "Valor máximo: 8\n"
          ]
        }
      ]
    },
    {
      "cell_type": "markdown",
      "source": [
        "# Calculando o valor mínimo\n",
        "\n"
      ],
      "metadata": {
        "id": "EhEHrUDjdWLT"
      }
    },
    {
      "cell_type": "code",
      "source": [
        "valor_minimo = df['Valores'].min()\n",
        "print(f'Valor mínimo: {valor_minimo}')"
      ],
      "metadata": {
        "colab": {
          "base_uri": "https://localhost:8080/"
        },
        "id": "nMLlmAHTddKa",
        "outputId": "5fedcb7d-945d-4846-88b3-aa4127203371"
      },
      "execution_count": 15,
      "outputs": [
        {
          "output_type": "stream",
          "name": "stdout",
          "text": [
            "Valor mínimo: 2\n"
          ]
        }
      ]
    },
    {
      "cell_type": "markdown",
      "source": [
        "# Calculando a média aritmética dos valores"
      ],
      "metadata": {
        "id": "mlwS9hmudh0s"
      }
    },
    {
      "cell_type": "code",
      "source": [
        "media_aritmetica = df['Valores'].mean()\n",
        "print(f'Média aritmética: {media_aritmetica}')"
      ],
      "metadata": {
        "colab": {
          "base_uri": "https://localhost:8080/"
        },
        "id": "ikkiXewUdjT5",
        "outputId": "b8695ed1-8a9a-41d6-9976-3c2a34b2967d"
      },
      "execution_count": 16,
      "outputs": [
        {
          "output_type": "stream",
          "name": "stdout",
          "text": [
            "Média aritmética: 4.5\n"
          ]
        }
      ]
    },
    {
      "cell_type": "markdown",
      "source": [
        "# Calculando a mediana dos valores"
      ],
      "metadata": {
        "id": "DCkr3j5sdoBK"
      }
    },
    {
      "cell_type": "code",
      "source": [
        "mediana = df['Valores'].median()\n",
        "print(f'Mediana: {mediana}')"
      ],
      "metadata": {
        "colab": {
          "base_uri": "https://localhost:8080/"
        },
        "id": "HHj_7NZjdnH7",
        "outputId": "ef9962d4-0224-401d-d49c-8e790aeb1a38"
      },
      "execution_count": 17,
      "outputs": [
        {
          "output_type": "stream",
          "name": "stdout",
          "text": [
            "Mediana: 4.0\n"
          ]
        }
      ]
    },
    {
      "cell_type": "markdown",
      "source": [
        "# Calculando o desvio padrão"
      ],
      "metadata": {
        "id": "vHvUrc8sdvX5"
      }
    },
    {
      "cell_type": "code",
      "source": [
        "desvio_padrao = df['Valores'].std()\n",
        "print(f'Desvio padrão: {desvio_padrao}')"
      ],
      "metadata": {
        "colab": {
          "base_uri": "https://localhost:8080/"
        },
        "id": "6rIU7MTidnq8",
        "outputId": "867ddb9f-717a-4723-811a-e068ed00acd9"
      },
      "execution_count": 18,
      "outputs": [
        {
          "output_type": "stream",
          "name": "stdout",
          "text": [
            "Desvio padrão: 1.8516401995451028\n"
          ]
        }
      ]
    }
  ]
}