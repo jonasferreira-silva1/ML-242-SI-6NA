{
 "cells": [
  {
   "cell_type": "code",
   "execution_count": 3,
   "id": "8e6f4116-c9da-421b-8a0f-6b6ba04157f7",
   "metadata": {},
   "outputs": [],
   "source": [
    "#Dados de entrada\n",
    "valores = [4, 6, 3, 4, 5, 8, 4, 2]"
   ]
  },
  {
   "cell_type": "code",
   "execution_count": 22,
   "id": "452811ab-6138-4fb9-95fe-6261396a58ee",
   "metadata": {},
   "outputs": [
    {
     "name": "stdout",
     "output_type": "stream",
     "text": [
      "             0\n",
      "count  8.00000\n",
      "mean   4.50000\n",
      "std    1.85164\n",
      "min    2.00000\n",
      "25%    3.75000\n",
      "50%    4.00000\n",
      "75%    5.25000\n",
      "max    8.00000\n"
     ]
    }
   ],
   "source": [
    "#EDA\n",
    "import pandas as pd\n",
    "\n",
    "dataset = pd.DataFrame(valores)\n",
    "print(dataset.describe())"
   ]
  }
 ],
 "metadata": {
  "kernelspec": {
   "display_name": "Python 3 (ipykernel)",
   "language": "python",
   "name": "python3"
  },
  "language_info": {
   "codemirror_mode": {
    "name": "ipython",
    "version": 3
   },
   "file_extension": ".py",
   "mimetype": "text/x-python",
   "name": "python",
   "nbconvert_exporter": "python",
   "pygments_lexer": "ipython3",
   "version": "3.11.5"
  }
 },
 "nbformat": 4,
 "nbformat_minor": 5
}
