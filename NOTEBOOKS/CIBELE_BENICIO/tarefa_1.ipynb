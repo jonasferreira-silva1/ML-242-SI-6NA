{
  "nbformat": 4,
  "nbformat_minor": 0,
  "metadata": {
    "colab": {
      "provenance": []
    },
    "kernelspec": {
      "name": "python3",
      "display_name": "Python 3"
    },
    "language_info": {
      "name": "python"
    }
  },
  "cells": [
    {
      "cell_type": "code",
      "execution_count": 1,
      "metadata": {
        "colab": {
          "base_uri": "https://localhost:8080/"
        },
        "id": "gDUGIc8SL0rO",
        "outputId": "9eb29a2e-0eee-4ce6-c2e4-f4015539e0de"
      },
      "outputs": [
        {
          "output_type": "stream",
          "name": "stdout",
          "text": [
            "Valor máximo: 8\n",
            "Valor mínimo: 2\n",
            "Média aritmética: 4.5\n",
            "Mediana: 4.0\n",
            "Desvio padrão: 1.7320508075688772\n"
          ]
        }
      ],
      "source": [
        "# prompt: Para a seguinte lista de números:\n",
        "# valores = [4, 6, 3, 4, 5, 8, 4, 2]\n",
        "# Crie um notebook que apresente as seguintes informações sobre a lista:\n",
        "# Valor máximo\n",
        "# Valor mínimo\n",
        "# Média aritmética dos valores\n",
        "# Mediana dos valores\n",
        "# Desvio padrão dos valor\n",
        "\n",
        "import numpy as np\n",
        "\n",
        "valores = [4, 6, 3, 4, 5, 8, 4, 2]\n",
        "\n",
        "# Valor máximo\n",
        "valor_maximo = np.max(valores)\n",
        "print(f\"Valor máximo: {valor_maximo}\")\n",
        "\n",
        "# Valor mínimo\n",
        "valor_minimo = np.min(valores)\n",
        "print(f\"Valor mínimo: {valor_minimo}\")\n",
        "\n",
        "# Média aritmética\n",
        "media = np.mean(valores)\n",
        "print(f\"Média aritmética: {media}\")\n",
        "\n",
        "# Mediana\n",
        "mediana = np.median(valores)\n",
        "print(f\"Mediana: {mediana}\")\n",
        "\n",
        "# Desvio padrão\n",
        "desvio_padrao = np.std(valores)\n",
        "print(f\"Desvio padrão: {desvio_padrao}\")\n"
      ]
    }
  ]
}