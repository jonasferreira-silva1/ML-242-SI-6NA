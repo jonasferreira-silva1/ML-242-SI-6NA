{
 "cells": [
  {
   "cell_type": "markdown",
   "id": "83d669b1-6110-43d7-bfb2-f3909bf6b15c",
   "metadata": {},
   "source": [
    "# Tarefa 1: Análise Estatística da Lista de Números\n",
    "\n",
    "Vamos usar a lista de números fornecida:\n",
    "\n",
    "valores = [4, 6, 3, 4, 5, 8, 4, 2]\n",
    "\n",
    "E descobrir as seguintes informações: \n",
    "\n",
    "1. Valor máximo\n",
    "2. Valor mínimo\n",
    "3. Média aritmética dos valores\n",
    "4. Mediana dos valores\n",
    "5. Desvio padrão dos valores\n"
   ]
  },
  {
   "cell_type": "markdown",
   "id": "de2a2e32-0fa6-4614-8935-029585c8e205",
   "metadata": {},
   "source": [
    "# Importando as libs"
   ]
  },
  {
   "cell_type": "code",
   "execution_count": 9,
   "id": "11d01ded-d356-4054-b46e-3ad1c53f49d1",
   "metadata": {},
   "outputs": [],
   "source": [
    "import numpy as np\n",
    "import pandas as pd"
   ]
  },
  {
   "cell_type": "markdown",
   "id": "f7b7da98-449e-4f25-8ff3-89ccb6c2d889",
   "metadata": {},
   "source": [
    "# Valor maximo:"
   ]
  },
  {
   "cell_type": "code",
   "execution_count": 11,
   "id": "b6f2551e-75df-48d1-8e8d-403caab6eb3f",
   "metadata": {},
   "outputs": [],
   "source": [
    "valores = [4, 6, 3, 4, 5, 8, 4, 2]\n",
    "valor_maximo = np.max(valores)"
   ]
  },
  {
   "cell_type": "markdown",
   "id": "07f45802-0dd7-4f48-bcb1-d43df1a5d24e",
   "metadata": {},
   "source": [
    "# Valor minimo "
   ]
  },
  {
   "cell_type": "code",
   "execution_count": 12,
   "id": "113a1785-7c2e-440c-afbc-49120748da64",
   "metadata": {},
   "outputs": [],
   "source": [
    "valor_minimo = np.min(valores)\n",
    "print(valor_minimo)"
   ]
  },
  {
   "cell_type": "markdown",
   "id": "b971efbc-7fbf-42ea-8473-3718ebc7bab5",
   "metadata": {},
   "source": [
    "# Media aritmetica dos valores"
   ]
  },
  {
   "cell_type": "code",
   "execution_count": 13,
   "id": "02876112-2fb4-440d-ba99-f927bf6042fa",
   "metadata": {},
   "outputs": [],
   "source": [
    "media = np.mean(valores)\n",
    "print(media)"
   ]
  },
  {
   "cell_type": "markdown",
   "id": "d35a3f35-5a23-4296-ac52-9383485f2339",
   "metadata": {},
   "source": [
    "# Mediana dos valores"
   ]
  },
  {
   "cell_type": "code",
   "execution_count": 17,
   "id": "786c5fea-6cad-4edc-b966-d60ce04353f7",
   "metadata": {},
   "outputs": [
    {
     "name": "stdout",
     "output_type": "stream",
     "text": [
      "4.0\n"
     ]
    }
   ],
   "source": [
    "mediana = np.median(valores)\n",
    "print(mediana)"
   ]
  },
  {
   "cell_type": "code",
   "execution_count": 15,
   "id": "08c022a2-2bda-4314-8a19-fa6b701fbcb9",
   "metadata": {},
   "outputs": [],
   "source": [
    "df = pd.DataFrame(valores, columns=['Valores'])\n",
    "\n",
    "desvio_padrao = df['Valores'].std()"
   ]
  },
  {
   "cell_type": "markdown",
   "id": "0008463c-3f89-4ed1-9683-b912bb8ccbef",
   "metadata": {},
   "source": [
    "# Desvio padrão dos valores"
   ]
  },
  {
   "cell_type": "code",
   "execution_count": null,
   "id": "f00e0f88-73b2-4c7e-b735-08d56c90dddb",
   "metadata": {},
   "outputs": [],
   "source": []
  },
  {
   "cell_type": "code",
   "execution_count": null,
   "id": "021d1234-52cc-442a-a642-b01e3e3886d1",
   "metadata": {},
   "outputs": [],
   "source": []
  }
 ],
 "metadata": {
  "kernelspec": {
   "display_name": "Python 3 (ipykernel)",
   "language": "python",
   "name": "python3"
  },
  "language_info": {
   "codemirror_mode": {
    "name": "ipython",
    "version": 3
   },
   "file_extension": ".py",
   "mimetype": "text/x-python",
   "name": "python",
   "nbconvert_exporter": "python",
   "pygments_lexer": "ipython3",
   "version": "3.10.14"
  }
 },
 "nbformat": 4,
 "nbformat_minor": 5
}
