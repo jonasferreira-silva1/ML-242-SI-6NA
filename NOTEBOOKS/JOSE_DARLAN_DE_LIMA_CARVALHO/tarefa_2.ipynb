{
 "cells": [
  {
   "cell_type": "code",
   "execution_count": null,
   "id": "bbfbdbfb-d3d7-44d7-bca3-01d1271e682e",
   "metadata": {},
   "outputs": [],
   "source": [
    "import pandas as pd\n",
    "import seaborn as sns\n",
    "import matplotlib.pyplot as plt\n",
    "\n",
    "# URL do dataset Wine\n",
    "url = 'https://archive.ics.uci.edu/ml/machine-learning-databases/wine/wine.data'\n",
    "\n",
    "# Nome das colunas em português BR\n",
    "column_names_pt_br = [\n",
    "    'classe',\n",
    "    'alcool',\n",
    "    'acido_malico',\n",
    "    'cinzas',\n",
    "    'alcalinidade_de_cinzas',\n",
    "    'magnesio',\n",
    "    'fenois_totais',\n",
    "    'flavanoides',\n",
    "    'fenois_nao_flavanoides',\n",
    "    'proantocianinas',\n",
    "    'intensidade_de_cor',\n",
    "    'matiz',\n",
    "    'od280_od315_de_vinhos_diluidos',\n",
    "    'prolina'\n",
    "]\n",
    "\n",
    "# Ler o arquivo CSV com as colunas especificadas, definindo a coluna 'classe' como object\n",
    "vinhos = pd.read_csv(url, names=column_names_pt_br, dtype={'classe': object})\n",
    "\n",
    "vinhos.head()"
   ]
  },
  {
   "cell_type": "markdown",
   "id": "0e72d2d2-978a-4411-86d4-4fd6944e8b0e",
   "metadata": {},
   "source": [
    "# Estatísticas Descritivas"
   ]
  },
  {
   "cell_type": "code",
   "execution_count": null,
   "id": "b1411eb7-7bc6-47a9-adfd-a8005d436b0f",
   "metadata": {},
   "outputs": [],
   "source": [
    "vinhos[['alcool', 'acido_malico', 'magnesio', 'matiz']].describe()"
   ]
  },
  {
   "cell_type": "markdown",
   "id": "66a33c0e-7bab-4bb2-ba7d-be92612fa754",
   "metadata": {},
   "source": [
    "Contagem das classes"
   ]
  },
  {
   "cell_type": "code",
   "execution_count": null,
   "id": "fe1b3f60-397a-43f2-b142-4dac0e5f3b28",
   "metadata": {},
   "outputs": [],
   "source": [
    "vinhos['classe'].value_counts()"
   ]
  },
  {
   "cell_type": "markdown",
   "id": "7e53ebe5-840b-4cfa-972b-20518a547bcb",
   "metadata": {},
   "source": [
    "# Criação de Boxplots"
   ]
  },
  {
   "cell_type": "code",
   "execution_count": 7,
   "id": "0fa1dc43-5201-4819-b5fd-ff42bd41b3ca",
   "metadata": {},
   "outputs": [
    {
     "ename": "NameError",
     "evalue": "name 'sns' is not defined",
     "output_type": "error",
     "traceback": [
      "\u001b[0;31m---------------------------------------------------------------------------\u001b[0m",
      "\u001b[0;31mNameError\u001b[0m                                 Traceback (most recent call last)",
      "Cell \u001b[0;32mIn[7], line 2\u001b[0m\n\u001b[1;32m      1\u001b[0m \u001b[38;5;66;03m# Configurando o estilo dos graficos\u001b[39;00m\n\u001b[0;32m----> 2\u001b[0m sns\u001b[38;5;241m.\u001b[39mset(style\u001b[38;5;241m=\u001b[39m\u001b[38;5;124m\"\u001b[39m\u001b[38;5;124mwhitegrid\u001b[39m\u001b[38;5;124m\"\u001b[39m)\n\u001b[1;32m      4\u001b[0m \u001b[38;5;66;03m# Boxplots para cada coluna\u001b[39;00m\n\u001b[1;32m      5\u001b[0m plt\u001b[38;5;241m.\u001b[39mfigure(figsize\u001b[38;5;241m=\u001b[39m(\u001b[38;5;241m15\u001b[39m,\u001b[38;5;241m10\u001b[39m))\n",
      "\u001b[0;31mNameError\u001b[0m: name 'sns' is not defined"
     ]
    }
   ],
   "source": [
    "# Configurando o estilo dos graficos\n",
    "sns.set(style=\"whitegrid\")\n",
    "\n",
    "# Boxplots para cada coluna\n",
    "plt.figure(figsize=(15,10))\n",
    "\n",
    "# Boxplot para magnesio\n",
    "plt.subplot(2, 2, 1)\n",
    "sns.boxplot(data=vinhos, y='magnesio')\n",
    "plt.title('Boxplot - Magnésio')\n",
    "\n",
    "# Boxplot para prolina\n",
    "plt.subplot(2, 2, 2)\n",
    "sns.boxplot(data=vinhos, y='prolina')\n",
    "plt.title('Boxplot - Prolina')\n",
    "\n",
    "# Boxplot para cinzas\n",
    "plt.subplot(2, 2, 3)\n",
    "sns.boxplot(data=vinhos, y='cinzas')\n",
    "plt.title('Boxplot - Cinzas')\n",
    "\n",
    "# Boxplot para alcool\n",
    "plt.subplot(2, 2, 4)\n",
    "sns.boxplot(data=vinhos, y='alcool')\n",
    "plt.title('Boxplot - Álcool')\n",
    "\n",
    "plt.tight_layout()\n",
    "plt.show()\n"
   ]
  },
  {
   "cell_type": "markdown",
   "id": "73f64245-5c36-4d8d-83bb-a654ff028acc",
   "metadata": {},
   "source": [
    "# Boxplots Segregados por Classe"
   ]
  },
  {
   "cell_type": "code",
   "execution_count": 8,
   "id": "6b6528ed-1ce8-4aba-b9ba-3b4f9140e6b5",
   "metadata": {},
   "outputs": [
    {
     "ename": "NameError",
     "evalue": "name 'plt' is not defined",
     "output_type": "error",
     "traceback": [
      "\u001b[0;31m---------------------------------------------------------------------------\u001b[0m",
      "\u001b[0;31mNameError\u001b[0m                                 Traceback (most recent call last)",
      "Cell \u001b[0;32mIn[8], line 2\u001b[0m\n\u001b[1;32m      1\u001b[0m \u001b[38;5;66;03m# Boxplots segregados pela classe\u001b[39;00m\n\u001b[0;32m----> 2\u001b[0m plt\u001b[38;5;241m.\u001b[39mfigure(figsize\u001b[38;5;241m=\u001b[39m(\u001b[38;5;241m15\u001b[39m,\u001b[38;5;241m10\u001b[39m))\n\u001b[1;32m      4\u001b[0m \u001b[38;5;66;03m# Magnesio por classe\u001b[39;00m\n\u001b[1;32m      5\u001b[0m plt\u001b[38;5;241m.\u001b[39msubplot(\u001b[38;5;241m2\u001b[39m, \u001b[38;5;241m2\u001b[39m, \u001b[38;5;241m1\u001b[39m)\n",
      "\u001b[0;31mNameError\u001b[0m: name 'plt' is not defined"
     ]
    }
   ],
   "source": [
    "# Boxplots segregados pela classe\n",
    "plt.figure(figsize=(15,10))\n",
    "\n",
    "# Magnesio por classe\n",
    "plt.subplot(2, 2, 1)\n",
    "vinhos.boxplot(column='magnesio', by='classe')\n",
    "plt.title('Magnésio por Classe')\n",
    "plt.suptitle('')  # Remove o título automático\n",
    "\n",
    "# Fenois totais por classe\n",
    "plt.subplot(2, 2, 2)\n",
    "vinhos.boxplot(column='fenois_totais', by='classe')\n",
    "plt.title('Fenois Totais por Classe')\n",
    "plt.suptitle('')\n",
    "\n",
    "# Acido málico por classe\n",
    "plt.subplot(2, 2, 3)\n",
    "vinhos.boxplot(column='acido_malico', by='classe')\n",
    "plt.title('Ácido Málico por Classe')\n",
    "plt.suptitle('')\n",
    "\n",
    "# Alcool por classe\n",
    "plt.subplot(2, 2, 4)\n",
    "vinhos.boxplot(column='alcool', by='classe')\n",
    "plt.title('Álcool por Classe')\n",
    "plt.suptitle('')\n",
    "\n",
    "plt.tight_layout()\n",
    "plt.show()\n"
   ]
  },
  {
   "cell_type": "markdown",
   "id": "54b96389-5095-45b2-afd5-7b1ce538b291",
   "metadata": {},
   "source": [
    "# Criação de Histograma"
   ]
  },
  {
   "cell_type": "code",
   "execution_count": 9,
   "id": "7db020db-f5f5-4128-919d-793756c0a0c2",
   "metadata": {},
   "outputs": [
    {
     "ename": "NameError",
     "evalue": "name 'plt' is not defined",
     "output_type": "error",
     "traceback": [
      "\u001b[0;31m---------------------------------------------------------------------------\u001b[0m",
      "\u001b[0;31mNameError\u001b[0m                                 Traceback (most recent call last)",
      "Cell \u001b[0;32mIn[9], line 2\u001b[0m\n\u001b[1;32m      1\u001b[0m \u001b[38;5;66;03m# Histograma para fenois totais\u001b[39;00m\n\u001b[0;32m----> 2\u001b[0m plt\u001b[38;5;241m.\u001b[39mfigure(figsize\u001b[38;5;241m=\u001b[39m(\u001b[38;5;241m10\u001b[39m,\u001b[38;5;241m6\u001b[39m))\n\u001b[1;32m      3\u001b[0m plt\u001b[38;5;241m.\u001b[39mhist(vinhos[\u001b[38;5;124m'\u001b[39m\u001b[38;5;124mfenois_totais\u001b[39m\u001b[38;5;124m'\u001b[39m], bins\u001b[38;5;241m=\u001b[39m\u001b[38;5;241m10\u001b[39m, color\u001b[38;5;241m=\u001b[39m\u001b[38;5;124m'\u001b[39m\u001b[38;5;124mskyblue\u001b[39m\u001b[38;5;124m'\u001b[39m, edgecolor\u001b[38;5;241m=\u001b[39m\u001b[38;5;124m'\u001b[39m\u001b[38;5;124mblack\u001b[39m\u001b[38;5;124m'\u001b[39m)\n\u001b[1;32m      4\u001b[0m plt\u001b[38;5;241m.\u001b[39mtitle(\u001b[38;5;124m'\u001b[39m\u001b[38;5;124mHistograma - Fenois Totais\u001b[39m\u001b[38;5;124m'\u001b[39m)\n",
      "\u001b[0;31mNameError\u001b[0m: name 'plt' is not defined"
     ]
    }
   ],
   "source": [
    "# Histograma para fenois totais\n",
    "plt.figure(figsize=(10,6))\n",
    "plt.hist(vinhos['fenois_totais'], bins=10, color='skyblue', edgecolor='black')\n",
    "plt.title('Histograma - Fenois Totais')\n",
    "plt.xlabel('Fenois Totais')\n",
    "plt.ylabel('Frequência')\n",
    "plt.show()\n"
   ]
  },
  {
   "cell_type": "markdown",
   "id": "fc389987-f370-4351-954b-87a7d725c20b",
   "metadata": {},
   "source": [
    "## Histograma filtrando pela Classe 3"
   ]
  },
  {
   "cell_type": "code",
   "execution_count": null,
   "id": "ec33a5e7-dd2c-4c20-b9d6-7877a579a3d0",
   "metadata": {},
   "outputs": [],
   "source": [
    "# Filtrando a classe 3 e criando o histograma\n",
    "vinhos_classe_3 = vinhos[vinhos['classe'] == '3']\n",
    "\n",
    "plt.figure(figsize=(10,6))\n",
    "plt.hist(vinhos_classe_3['fenois_totais'], bins=10, color='lightcoral', edgecolor='black')\n",
    "plt.title('Histograma - Fenois Totais (Classe 3)')\n",
    "plt.xlabel('Fenois Totais')\n",
    "plt.ylabel('Frequência')\n",
    "plt.show()\n"
   ]
  }
 ],
 "metadata": {
  "kernelspec": {
   "display_name": "Python 3 (ipykernel)",
   "language": "python",
   "name": "python3"
  },
  "language_info": {
   "codemirror_mode": {
    "name": "ipython",
    "version": 3
   },
   "file_extension": ".py",
   "mimetype": "text/x-python",
   "name": "python",
   "nbconvert_exporter": "python",
   "pygments_lexer": "ipython3",
   "version": "3.12.4"
  }
 },
 "nbformat": 4,
 "nbformat_minor": 5
}
