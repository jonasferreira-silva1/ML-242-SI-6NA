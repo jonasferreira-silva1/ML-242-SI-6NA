{
  "nbformat": 4,
  "nbformat_minor": 0,
  "metadata": {
    "colab": {
      "provenance": []
    },
    "kernelspec": {
      "name": "python3",
      "display_name": "Python 3"
    },
    "language_info": {
      "name": "python"
    }
  },
  "cells": [
    {
      "cell_type": "markdown",
      "source": [
        "**Tarefa 1 - Machine Learning**"
      ],
      "metadata": {
        "id": "at8j9uo7XLfC"
      }
    },
    {
      "cell_type": "code",
      "execution_count": null,
      "metadata": {
        "id": "JRlOWbmpW10e",
        "outputId": "e8701b89-f91a-4d4c-b548-d68cd1e9cb56",
        "colab": {
          "base_uri": "https://localhost:8080/"
        }
      },
      "outputs": [
        {
          "output_type": "stream",
          "name": "stdout",
          "text": [
            "8\n"
          ]
        }
      ],
      "source": [
        "\n",
        "valores = [4, 6, 3, 4, 5, 8, 4, 2]\n",
        "valor_maximo = max(valores)\n",
        "print(valor_maximo)\n"
      ]
    },
    {
      "cell_type": "code",
      "source": [
        "valores = [4, 6, 3, 4, 5, 8, 4, 2]\n",
        "valor_minimo = min(valores)\n",
        "print(valor_minimo)\n"
      ],
      "metadata": {
        "id": "jIOp8bekXicC",
        "outputId": "4ec5b2c2-a4a5-48f4-c4b7-909666974c19",
        "colab": {
          "base_uri": "https://localhost:8080/"
        }
      },
      "execution_count": null,
      "outputs": [
        {
          "output_type": "stream",
          "name": "stdout",
          "text": [
            "2\n"
          ]
        }
      ]
    },
    {
      "cell_type": "code",
      "source": [
        "valores = [4, 6, 3, 4, 5, 8, 4, 2]\n",
        "media = sum(valores) / len(valores)\n",
        "print(media)\n"
      ],
      "metadata": {
        "id": "0Kohz4F6YRwi",
        "outputId": "a913ee25-094a-4b64-f38d-5036c3326c91",
        "colab": {
          "base_uri": "https://localhost:8080/"
        }
      },
      "execution_count": null,
      "outputs": [
        {
          "output_type": "stream",
          "name": "stdout",
          "text": [
            "4.5\n"
          ]
        }
      ]
    },
    {
      "cell_type": "code",
      "source": [
        "valores = [4, 6, 3, 4, 5, 8, 4, 2]\n",
        "valores.sort()\n",
        "n = len(valores)\n",
        "if n % 2 == 0:\n",
        "  mediana = (valores[n//2 - 1] + valores[n//2]) / 2\n",
        "else:\n",
        "  mediana = valores[n//2]\n",
        "print(mediana)\n"
      ],
      "metadata": {
        "id": "IiM6JveXZIHe",
        "outputId": "4bb7eb8d-ac59-40b9-a28e-f310cd5d8f88",
        "colab": {
          "base_uri": "https://localhost:8080/"
        }
      },
      "execution_count": null,
      "outputs": [
        {
          "output_type": "stream",
          "name": "stdout",
          "text": [
            "4.0\n"
          ]
        }
      ]
    },
    {
      "cell_type": "code",
      "source": [
        "\n",
        "import math\n",
        "\n",
        "valores = [4, 6, 3, 4, 5, 8, 4, 2]\n",
        "n = len(valores)\n",
        "\n",
        "\n",
        "media = sum(valores) / n\n",
        "\n",
        "soma_quadrados_diferencas = 0\n",
        "for valor in valores:\n",
        "  soma_quadrados_diferencas += (valor - media) ** 2\n",
        "variancia = soma_quadrados_diferencas / n\n",
        "\n",
        "\n",
        "desvio_padrao = math.sqrt(variancia)\n",
        "\n",
        "print(desvio_padrao)\n"
      ],
      "metadata": {
        "id": "IEX8M0wTZPhg",
        "outputId": "dcf6ae9a-3278-479f-be06-c6412ee2d751",
        "colab": {
          "base_uri": "https://localhost:8080/"
        }
      },
      "execution_count": null,
      "outputs": [
        {
          "output_type": "stream",
          "name": "stdout",
          "text": [
            "1.7320508075688772\n"
          ]
        }
      ]
    }
  ]
}